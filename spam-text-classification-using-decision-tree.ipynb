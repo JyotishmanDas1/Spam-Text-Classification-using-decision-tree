{
 "cells": [
  {
   "cell_type": "code",
   "execution_count": 1,
   "id": "f1116934",
   "metadata": {
    "_cell_guid": "b1076dfc-b9ad-4769-8c92-a6c4dae69d19",
    "_uuid": "8f2839f25d086af736a60e9eeb907d3b93b6e0e5",
    "execution": {
     "iopub.execute_input": "2022-07-15T11:28:05.375887Z",
     "iopub.status.busy": "2022-07-15T11:28:05.375394Z",
     "iopub.status.idle": "2022-07-15T11:28:05.402828Z",
     "shell.execute_reply": "2022-07-15T11:28:05.401914Z"
    },
    "papermill": {
     "duration": 0.040709,
     "end_time": "2022-07-15T11:28:05.406018",
     "exception": false,
     "start_time": "2022-07-15T11:28:05.365309",
     "status": "completed"
    },
    "tags": []
   },
   "outputs": [
    {
     "name": "stdout",
     "output_type": "stream",
     "text": [
      "/kaggle/input/spam-text-message-classification/SPAM text message 20170820 - Data.csv\n"
     ]
    }
   ],
   "source": [
    "# This Python 3 environment comes with many helpful analytics libraries installed\n",
    "# It is defined by the kaggle/python Docker image: https://github.com/kaggle/docker-python\n",
    "# For example, here's several helpful packages to load\n",
    "\n",
    "import numpy as np # linear algebra\n",
    "import pandas as pd # data processing, CSV file I/O (e.g. pd.read_csv)\n",
    "\n",
    "# Input data files are available in the read-only \"../input/\" directory\n",
    "# For example, running this (by clicking run or pressing Shift+Enter) will list all files under the input directory\n",
    "\n",
    "import os\n",
    "for dirname, _, filenames in os.walk('/kaggle/input'):\n",
    "    for filename in filenames:\n",
    "        print(os.path.join(dirname, filename))\n",
    "\n",
    "# You can write up to 20GB to the current directory (/kaggle/working/) that gets preserved as output when you create a version using \"Save & Run All\" \n",
    "# You can also write temporary files to /kaggle/temp/, but they won't be saved outside of the current session"
   ]
  },
  {
   "cell_type": "code",
   "execution_count": 2,
   "id": "e3087c33",
   "metadata": {
    "execution": {
     "iopub.execute_input": "2022-07-15T11:28:05.421538Z",
     "iopub.status.busy": "2022-07-15T11:28:05.420763Z",
     "iopub.status.idle": "2022-07-15T11:28:07.071506Z",
     "shell.execute_reply": "2022-07-15T11:28:07.070396Z"
    },
    "papermill": {
     "duration": 1.661796,
     "end_time": "2022-07-15T11:28:07.074493",
     "exception": false,
     "start_time": "2022-07-15T11:28:05.412697",
     "status": "completed"
    },
    "tags": []
   },
   "outputs": [],
   "source": [
    "import numpy as np\n",
    "import pandas as pd\n",
    "from sklearn.metrics import confusion_matrix\n",
    "from sklearn.model_selection import train_test_split\n",
    "from sklearn.tree import DecisionTreeClassifier\n",
    "from sklearn.metrics import accuracy_score\n",
    "import matplotlib.pyplot as plt\n",
    "import seaborn as sns\n",
    "import re"
   ]
  },
  {
   "cell_type": "code",
   "execution_count": 3,
   "id": "1b3f87e3",
   "metadata": {
    "execution": {
     "iopub.execute_input": "2022-07-15T11:28:07.090998Z",
     "iopub.status.busy": "2022-07-15T11:28:07.089597Z",
     "iopub.status.idle": "2022-07-15T11:28:07.127438Z",
     "shell.execute_reply": "2022-07-15T11:28:07.126514Z"
    },
    "papermill": {
     "duration": 0.048789,
     "end_time": "2022-07-15T11:28:07.130253",
     "exception": false,
     "start_time": "2022-07-15T11:28:07.081464",
     "status": "completed"
    },
    "tags": []
   },
   "outputs": [],
   "source": [
    "data_path=r\"../input/spam-text-message-classification/SPAM text message 20170820 - Data.csv\"\n",
    "data=pd.read_csv(data_path,index_col=None);"
   ]
  },
  {
   "cell_type": "code",
   "execution_count": 4,
   "id": "76d083db",
   "metadata": {
    "execution": {
     "iopub.execute_input": "2022-07-15T11:28:07.145395Z",
     "iopub.status.busy": "2022-07-15T11:28:07.144160Z",
     "iopub.status.idle": "2022-07-15T11:28:07.171727Z",
     "shell.execute_reply": "2022-07-15T11:28:07.169564Z"
    },
    "papermill": {
     "duration": 0.037574,
     "end_time": "2022-07-15T11:28:07.174244",
     "exception": false,
     "start_time": "2022-07-15T11:28:07.136670",
     "status": "completed"
    },
    "tags": []
   },
   "outputs": [
    {
     "data": {
      "text/html": [
       "<div>\n",
       "<style scoped>\n",
       "    .dataframe tbody tr th:only-of-type {\n",
       "        vertical-align: middle;\n",
       "    }\n",
       "\n",
       "    .dataframe tbody tr th {\n",
       "        vertical-align: top;\n",
       "    }\n",
       "\n",
       "    .dataframe thead th {\n",
       "        text-align: right;\n",
       "    }\n",
       "</style>\n",
       "<table border=\"1\" class=\"dataframe\">\n",
       "  <thead>\n",
       "    <tr style=\"text-align: right;\">\n",
       "      <th></th>\n",
       "      <th>Category</th>\n",
       "      <th>Message</th>\n",
       "    </tr>\n",
       "  </thead>\n",
       "  <tbody>\n",
       "    <tr>\n",
       "      <th>0</th>\n",
       "      <td>ham</td>\n",
       "      <td>Go until jurong point, crazy.. Available only ...</td>\n",
       "    </tr>\n",
       "    <tr>\n",
       "      <th>1</th>\n",
       "      <td>ham</td>\n",
       "      <td>Ok lar... Joking wif u oni...</td>\n",
       "    </tr>\n",
       "    <tr>\n",
       "      <th>2</th>\n",
       "      <td>spam</td>\n",
       "      <td>Free entry in 2 a wkly comp to win FA Cup fina...</td>\n",
       "    </tr>\n",
       "    <tr>\n",
       "      <th>3</th>\n",
       "      <td>ham</td>\n",
       "      <td>U dun say so early hor... U c already then say...</td>\n",
       "    </tr>\n",
       "    <tr>\n",
       "      <th>4</th>\n",
       "      <td>ham</td>\n",
       "      <td>Nah I don't think he goes to usf, he lives aro...</td>\n",
       "    </tr>\n",
       "    <tr>\n",
       "      <th>...</th>\n",
       "      <td>...</td>\n",
       "      <td>...</td>\n",
       "    </tr>\n",
       "    <tr>\n",
       "      <th>5567</th>\n",
       "      <td>spam</td>\n",
       "      <td>This is the 2nd time we have tried 2 contact u...</td>\n",
       "    </tr>\n",
       "    <tr>\n",
       "      <th>5568</th>\n",
       "      <td>ham</td>\n",
       "      <td>Will ü b going to esplanade fr home?</td>\n",
       "    </tr>\n",
       "    <tr>\n",
       "      <th>5569</th>\n",
       "      <td>ham</td>\n",
       "      <td>Pity, * was in mood for that. So...any other s...</td>\n",
       "    </tr>\n",
       "    <tr>\n",
       "      <th>5570</th>\n",
       "      <td>ham</td>\n",
       "      <td>The guy did some bitching but I acted like i'd...</td>\n",
       "    </tr>\n",
       "    <tr>\n",
       "      <th>5571</th>\n",
       "      <td>ham</td>\n",
       "      <td>Rofl. Its true to its name</td>\n",
       "    </tr>\n",
       "  </tbody>\n",
       "</table>\n",
       "<p>5572 rows × 2 columns</p>\n",
       "</div>"
      ],
      "text/plain": [
       "     Category                                            Message\n",
       "0         ham  Go until jurong point, crazy.. Available only ...\n",
       "1         ham                      Ok lar... Joking wif u oni...\n",
       "2        spam  Free entry in 2 a wkly comp to win FA Cup fina...\n",
       "3         ham  U dun say so early hor... U c already then say...\n",
       "4         ham  Nah I don't think he goes to usf, he lives aro...\n",
       "...       ...                                                ...\n",
       "5567     spam  This is the 2nd time we have tried 2 contact u...\n",
       "5568      ham               Will ü b going to esplanade fr home?\n",
       "5569      ham  Pity, * was in mood for that. So...any other s...\n",
       "5570      ham  The guy did some bitching but I acted like i'd...\n",
       "5571      ham                         Rofl. Its true to its name\n",
       "\n",
       "[5572 rows x 2 columns]"
      ]
     },
     "execution_count": 4,
     "metadata": {},
     "output_type": "execute_result"
    }
   ],
   "source": [
    "data"
   ]
  },
  {
   "cell_type": "code",
   "execution_count": 5,
   "id": "0f0a8f07",
   "metadata": {
    "execution": {
     "iopub.execute_input": "2022-07-15T11:28:07.189461Z",
     "iopub.status.busy": "2022-07-15T11:28:07.189069Z",
     "iopub.status.idle": "2022-07-15T11:28:07.361795Z",
     "shell.execute_reply": "2022-07-15T11:28:07.360845Z"
    },
    "papermill": {
     "duration": 0.182992,
     "end_time": "2022-07-15T11:28:07.363900",
     "exception": false,
     "start_time": "2022-07-15T11:28:07.180908",
     "status": "completed"
    },
    "tags": []
   },
   "outputs": [
    {
     "name": "stderr",
     "output_type": "stream",
     "text": [
      "/opt/conda/lib/python3.7/site-packages/seaborn/_decorators.py:43: FutureWarning: Pass the following variable as a keyword arg: x. From version 0.12, the only valid positional argument will be `data`, and passing other arguments without an explicit keyword will result in an error or misinterpretation.\n",
      "  FutureWarning\n"
     ]
    },
    {
     "data": {
      "text/plain": [
       "<AxesSubplot:xlabel='Category', ylabel='count'>"
      ]
     },
     "execution_count": 5,
     "metadata": {},
     "output_type": "execute_result"
    },
    {
     "data": {
      "image/png": "[encoded data removed]",
      "text/plain": [
       "<Figure size 432x288 with 1 Axes>"
      ]
     },
     "metadata": {
      "needs_background": "light"
     },
     "output_type": "display_data"
    }
   ],
   "source": [
    "sns.countplot(data['Category'])"
   ]
  },
  {
   "cell_type": "code",
   "execution_count": 6,
   "id": "83423227",
   "metadata": {
    "execution": {
     "iopub.execute_input": "2022-07-15T11:28:07.376950Z",
     "iopub.status.busy": "2022-07-15T11:28:07.376494Z",
     "iopub.status.idle": "2022-07-15T11:28:07.384372Z",
     "shell.execute_reply": "2022-07-15T11:28:07.383460Z"
    },
    "papermill": {
     "duration": 0.016403,
     "end_time": "2022-07-15T11:28:07.386217",
     "exception": false,
     "start_time": "2022-07-15T11:28:07.369814",
     "status": "completed"
    },
    "tags": []
   },
   "outputs": [],
   "source": [
    "data['Category'] = data['Category'].map({\n",
    "    'ham' : 0,\n",
    "    'spam' : 1\n",
    "    })"
   ]
  },
  {
   "cell_type": "code",
   "execution_count": 7,
   "id": "706bbf59",
   "metadata": {
    "execution": {
     "iopub.execute_input": "2022-07-15T11:28:07.398029Z",
     "iopub.status.busy": "2022-07-15T11:28:07.397357Z",
     "iopub.status.idle": "2022-07-15T11:28:07.405565Z",
     "shell.execute_reply": "2022-07-15T11:28:07.404338Z"
    },
    "papermill": {
     "duration": 0.017371,
     "end_time": "2022-07-15T11:28:07.408493",
     "exception": false,
     "start_time": "2022-07-15T11:28:07.391122",
     "status": "completed"
    },
    "tags": []
   },
   "outputs": [],
   "source": [
    "def clean_text(Message):\n",
    "    '''Make text lowercase, remove text in square brackets,remove links,remove punctuation\n",
    "    and remove words containing numbers.'''\n",
    "    Message = text.lower()\n",
    "    Message = re.sub('\\[.*?\\]', '', Message)\n",
    "    Message = re.sub('https?://\\S+|www\\.\\S+', '', Message)\n",
    "    Message = re.sub('<.*?>+', '', text)\n",
    "    Message = re.sub('[%s]' % re.escape(string.punctuation), '', Message)\n",
    "    Message = re.sub('\\n', '', Message)\n",
    "    Message = re.sub('\\w*\\d\\w*', '', Message)\n",
    "    return text"
   ]
  },
  {
   "cell_type": "code",
   "execution_count": 8,
   "id": "48041ee7",
   "metadata": {
    "execution": {
     "iopub.execute_input": "2022-07-15T11:28:07.425469Z",
     "iopub.status.busy": "2022-07-15T11:28:07.425044Z",
     "iopub.status.idle": "2022-07-15T11:28:07.439748Z",
     "shell.execute_reply": "2022-07-15T11:28:07.438707Z"
    },
    "papermill": {
     "duration": 0.025998,
     "end_time": "2022-07-15T11:28:07.442074",
     "exception": false,
     "start_time": "2022-07-15T11:28:07.416076",
     "status": "completed"
    },
    "tags": []
   },
   "outputs": [
    {
     "data": {
      "text/html": [
       "<div>\n",
       "<style scoped>\n",
       "    .dataframe tbody tr th:only-of-type {\n",
       "        vertical-align: middle;\n",
       "    }\n",
       "\n",
       "    .dataframe tbody tr th {\n",
       "        vertical-align: top;\n",
       "    }\n",
       "\n",
       "    .dataframe thead th {\n",
       "        text-align: right;\n",
       "    }\n",
       "</style>\n",
       "<table border=\"1\" class=\"dataframe\">\n",
       "  <thead>\n",
       "    <tr style=\"text-align: right;\">\n",
       "      <th></th>\n",
       "      <th>Category</th>\n",
       "      <th>Message</th>\n",
       "    </tr>\n",
       "  </thead>\n",
       "  <tbody>\n",
       "    <tr>\n",
       "      <th>0</th>\n",
       "      <td>0</td>\n",
       "      <td>Go until jurong point, crazy.. Available only ...</td>\n",
       "    </tr>\n",
       "    <tr>\n",
       "      <th>1</th>\n",
       "      <td>0</td>\n",
       "      <td>Ok lar... Joking wif u oni...</td>\n",
       "    </tr>\n",
       "    <tr>\n",
       "      <th>2</th>\n",
       "      <td>1</td>\n",
       "      <td>Free entry in 2 a wkly comp to win FA Cup fina...</td>\n",
       "    </tr>\n",
       "    <tr>\n",
       "      <th>3</th>\n",
       "      <td>0</td>\n",
       "      <td>U dun say so early hor... U c already then say...</td>\n",
       "    </tr>\n",
       "    <tr>\n",
       "      <th>4</th>\n",
       "      <td>0</td>\n",
       "      <td>Nah I don't think he goes to usf, he lives aro...</td>\n",
       "    </tr>\n",
       "    <tr>\n",
       "      <th>...</th>\n",
       "      <td>...</td>\n",
       "      <td>...</td>\n",
       "    </tr>\n",
       "    <tr>\n",
       "      <th>5567</th>\n",
       "      <td>1</td>\n",
       "      <td>This is the 2nd time we have tried 2 contact u...</td>\n",
       "    </tr>\n",
       "    <tr>\n",
       "      <th>5568</th>\n",
       "      <td>0</td>\n",
       "      <td>Will ü b going to esplanade fr home?</td>\n",
       "    </tr>\n",
       "    <tr>\n",
       "      <th>5569</th>\n",
       "      <td>0</td>\n",
       "      <td>Pity, * was in mood for that. So...any other s...</td>\n",
       "    </tr>\n",
       "    <tr>\n",
       "      <th>5570</th>\n",
       "      <td>0</td>\n",
       "      <td>The guy did some bitching but I acted like i'd...</td>\n",
       "    </tr>\n",
       "    <tr>\n",
       "      <th>5571</th>\n",
       "      <td>0</td>\n",
       "      <td>Rofl. Its true to its name</td>\n",
       "    </tr>\n",
       "  </tbody>\n",
       "</table>\n",
       "<p>5572 rows × 2 columns</p>\n",
       "</div>"
      ],
      "text/plain": [
       "      Category                                            Message\n",
       "0            0  Go until jurong point, crazy.. Available only ...\n",
       "1            0                      Ok lar... Joking wif u oni...\n",
       "2            1  Free entry in 2 a wkly comp to win FA Cup fina...\n",
       "3            0  U dun say so early hor... U c already then say...\n",
       "4            0  Nah I don't think he goes to usf, he lives aro...\n",
       "...        ...                                                ...\n",
       "5567         1  This is the 2nd time we have tried 2 contact u...\n",
       "5568         0               Will ü b going to esplanade fr home?\n",
       "5569         0  Pity, * was in mood for that. So...any other s...\n",
       "5570         0  The guy did some bitching but I acted like i'd...\n",
       "5571         0                         Rofl. Its true to its name\n",
       "\n",
       "[5572 rows x 2 columns]"
      ]
     },
     "execution_count": 8,
     "metadata": {},
     "output_type": "execute_result"
    }
   ],
   "source": [
    "data"
   ]
  },
  {
   "cell_type": "code",
   "execution_count": 9,
   "id": "0bf0496a",
   "metadata": {
    "execution": {
     "iopub.execute_input": "2022-07-15T11:28:07.459024Z",
     "iopub.status.busy": "2022-07-15T11:28:07.458620Z",
     "iopub.status.idle": "2022-07-15T11:28:07.463881Z",
     "shell.execute_reply": "2022-07-15T11:28:07.462868Z"
    },
    "papermill": {
     "duration": 0.016598,
     "end_time": "2022-07-15T11:28:07.466128",
     "exception": false,
     "start_time": "2022-07-15T11:28:07.449530",
     "status": "completed"
    },
    "tags": []
   },
   "outputs": [],
   "source": [
    "x = data[\"Message\"]\n",
    "y = data[\"Category\"]"
   ]
  },
  {
   "cell_type": "code",
   "execution_count": 10,
   "id": "359abf42",
   "metadata": {
    "execution": {
     "iopub.execute_input": "2022-07-15T11:28:07.482543Z",
     "iopub.status.busy": "2022-07-15T11:28:07.482150Z",
     "iopub.status.idle": "2022-07-15T11:28:07.491654Z",
     "shell.execute_reply": "2022-07-15T11:28:07.490429Z"
    },
    "papermill": {
     "duration": 0.02085,
     "end_time": "2022-07-15T11:28:07.494425",
     "exception": false,
     "start_time": "2022-07-15T11:28:07.473575",
     "status": "completed"
    },
    "tags": []
   },
   "outputs": [],
   "source": [
    "x_train, x_test, y_train, y_test = train_test_split(x, y, test_size=0.25)"
   ]
  },
  {
   "cell_type": "code",
   "execution_count": 11,
   "id": "54373469",
   "metadata": {
    "execution": {
     "iopub.execute_input": "2022-07-15T11:28:07.511582Z",
     "iopub.status.busy": "2022-07-15T11:28:07.511177Z",
     "iopub.status.idle": "2022-07-15T11:28:07.714997Z",
     "shell.execute_reply": "2022-07-15T11:28:07.713837Z"
    },
    "papermill": {
     "duration": 0.216058,
     "end_time": "2022-07-15T11:28:07.718130",
     "exception": false,
     "start_time": "2022-07-15T11:28:07.502072",
     "status": "completed"
    },
    "tags": []
   },
   "outputs": [],
   "source": [
    "from sklearn.feature_extraction.text import TfidfVectorizer\n",
    "\n",
    "vectorization = TfidfVectorizer()\n",
    "xv_train = vectorization.fit_transform(x_train)\n",
    "xv_test = vectorization.transform(x_test)"
   ]
  },
  {
   "cell_type": "code",
   "execution_count": 12,
   "id": "db1d2b2b",
   "metadata": {
    "execution": {
     "iopub.execute_input": "2022-07-15T11:28:07.735236Z",
     "iopub.status.busy": "2022-07-15T11:28:07.734796Z",
     "iopub.status.idle": "2022-07-15T11:28:07.741108Z",
     "shell.execute_reply": "2022-07-15T11:28:07.740081Z"
    },
    "papermill": {
     "duration": 0.017681,
     "end_time": "2022-07-15T11:28:07.743835",
     "exception": false,
     "start_time": "2022-07-15T11:28:07.726154",
     "status": "completed"
    },
    "tags": []
   },
   "outputs": [],
   "source": [
    "def prediction(X_test, model_object):\n",
    "  \n",
    "    # Predicton on test with giniIndex\n",
    "    y_pred = model_object.predict(xv_test)\n",
    "    print(\"Predicted values:\")\n",
    "    print(y_pred)\n",
    "    return y_pred"
   ]
  },
  {
   "cell_type": "code",
   "execution_count": 13,
   "id": "d893d0de",
   "metadata": {
    "execution": {
     "iopub.execute_input": "2022-07-15T11:28:07.755999Z",
     "iopub.status.busy": "2022-07-15T11:28:07.755521Z",
     "iopub.status.idle": "2022-07-15T11:28:07.761069Z",
     "shell.execute_reply": "2022-07-15T11:28:07.760250Z"
    },
    "papermill": {
     "duration": 0.014139,
     "end_time": "2022-07-15T11:28:07.763163",
     "exception": false,
     "start_time": "2022-07-15T11:28:07.749024",
     "status": "completed"
    },
    "tags": []
   },
   "outputs": [],
   "source": [
    "def cal_accuracy(y_test, y_pred):\n",
    "      \n",
    "    print(\"Confusion Matrix: \",\n",
    "        confusion_matrix(y_test, y_pred))\n",
    "      \n",
    "    print (\"Accuracy : \",\n",
    "    accuracy_score(y_test,y_pred)*100)"
   ]
  },
  {
   "cell_type": "code",
   "execution_count": 14,
   "id": "e096dd92",
   "metadata": {
    "execution": {
     "iopub.execute_input": "2022-07-15T11:28:07.780570Z",
     "iopub.status.busy": "2022-07-15T11:28:07.779307Z",
     "iopub.status.idle": "2022-07-15T11:28:07.880206Z",
     "shell.execute_reply": "2022-07-15T11:28:07.878597Z"
    },
    "papermill": {
     "duration": 0.112798,
     "end_time": "2022-07-15T11:28:07.883565",
     "exception": false,
     "start_time": "2022-07-15T11:28:07.770767",
     "status": "completed"
    },
    "tags": []
   },
   "outputs": [
    {
     "name": "stdout",
     "output_type": "stream",
     "text": [
      "Predicted values:\n",
      "[0 0 0 ... 0 0 1]\n",
      "Confusion Matrix:  [[1172   17]\n",
      " [  59  145]]\n",
      "Accuracy :  94.54414931801867\n"
     ]
    }
   ],
   "source": [
    "# Decision tree with gini\n",
    "model_gini = DecisionTreeClassifier(criterion = \"gini\",\n",
    "            random_state = 123,max_depth=10, min_samples_leaf=6)\n",
    "  \n",
    "# Performing training\n",
    "model_gini.fit(xv_train, y_train)\n",
    "\n",
    "# Prediction using gini\n",
    "y_pred_gini = prediction(xv_test, model_gini)\n",
    "cal_accuracy(y_test, y_pred_gini)\n"
   ]
  },
  {
   "cell_type": "code",
   "execution_count": 15,
   "id": "1bcc9ddb",
   "metadata": {
    "execution": {
     "iopub.execute_input": "2022-07-15T11:28:07.900847Z",
     "iopub.status.busy": "2022-07-15T11:28:07.900431Z",
     "iopub.status.idle": "2022-07-15T11:28:08.043005Z",
     "shell.execute_reply": "2022-07-15T11:28:08.040940Z"
    },
    "papermill": {
     "duration": 0.154529,
     "end_time": "2022-07-15T11:28:08.045904",
     "exception": false,
     "start_time": "2022-07-15T11:28:07.891375",
     "status": "completed"
    },
    "tags": []
   },
   "outputs": [
    {
     "name": "stdout",
     "output_type": "stream",
     "text": [
      "Predicted values:\n",
      "[0 0 0 ... 0 0 1]\n",
      "Confusion Matrix:  [[1178   11]\n",
      " [  54  150]]\n",
      "Accuracy :  95.33381191672649\n"
     ]
    }
   ],
   "source": [
    "# Decision tree with entropy\n",
    "model_entropy = DecisionTreeClassifier(\n",
    "            criterion = \"entropy\", random_state = 123,\n",
    "            max_depth = 10, min_samples_leaf = 6)\n",
    "  \n",
    "# Performing training\n",
    "model_entropy.fit(xv_train, y_train)\n",
    "\n",
    "# Prediction using entropy\n",
    "y_pred_entropy = prediction(xv_test, model_entropy)\n",
    "cal_accuracy(y_test, y_pred_entropy)"
   ]
  },
  {
   "cell_type": "code",
   "execution_count": null,
   "id": "c9d09115",
   "metadata": {
    "papermill": {
     "duration": 0.007913,
     "end_time": "2022-07-15T11:28:08.061585",
     "exception": false,
     "start_time": "2022-07-15T11:28:08.053672",
     "status": "completed"
    },
    "tags": []
   },
   "outputs": [],
   "source": []
  }
 ],
 "metadata": {
  "kernelspec": {
   "display_name": "Python 3",
   "language": "python",
   "name": "python3"
  },
  "language_info": {
   "codemirror_mode": {
    "name": "ipython",
    "version": 3
   },
   "file_extension": ".py",
   "mimetype": "text/x-python",
   "name": "python",
   "nbconvert_exporter": "python",
   "pygments_lexer": "ipython3",
   "version": "3.7.12"
  },
  "papermill": {
   "default_parameters": {},
   "duration": 15.750224,
   "end_time": "2022-07-15T11:28:09.095618",
   "environment_variables": {},
   "exception": null,
   "input_path": "__notebook__.ipynb",
   "output_path": "__notebook__.ipynb",
   "parameters": {},
   "start_time": "2022-07-15T11:27:53.345394",
   "version": "2.3.4"
  }
 },
 "nbformat": 4,
 "nbformat_minor": 5
}
